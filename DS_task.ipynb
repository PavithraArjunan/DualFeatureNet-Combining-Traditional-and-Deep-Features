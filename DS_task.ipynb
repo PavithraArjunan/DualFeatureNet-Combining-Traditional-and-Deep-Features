{
  "nbformat": 4,
  "nbformat_minor": 0,
  "metadata": {
    "colab": {
      "provenance": [],
      "gpuType": "T4",
      "collapsed_sections": [
        "FZsi_IbLRfSm",
        "53U-zLaQYIE9",
        "IPKo2BErRmj_",
        "LUJrg_COXqh5"
      ],
      "include_colab_link": true
    },
    "kernelspec": {
      "name": "python3",
      "display_name": "Python 3"
    },
    "language_info": {
      "name": "python"
    },
    "accelerator": "GPU"
  },
  "cells": [
    {
      "cell_type": "markdown",
      "metadata": {
        "id": "view-in-github",
        "colab_type": "text"
      },
      "source": [
        "<a href=\"https://colab.research.google.com/github/PavithraArjunan/DualFeatureNet-Combining-Traditional-and-Deep-Features/blob/main/DS_task.ipynb\" target=\"_parent\"><img src=\"https://colab.research.google.com/assets/colab-badge.svg\" alt=\"Open In Colab\"/></a>"
      ]
    },
    {
      "cell_type": "code",
      "source": [
        "from google.colab import drive\n",
        "drive.mount('/content/drive')"
      ],
      "metadata": {
        "colab": {
          "base_uri": "https://localhost:8080/"
        },
        "id": "aSH0G6pfHxG4",
        "outputId": "7044bb77-3014-4ad4-cfcc-c85f6e1ac0f0"
      },
      "execution_count": 1,
      "outputs": [
        {
          "output_type": "stream",
          "name": "stdout",
          "text": [
            "Mounted at /content/drive\n"
          ]
        }
      ]
    },
    {
      "cell_type": "markdown",
      "source": [
        "## Step 1: Data Augmentation and Preprocessing (OpenCV)"
      ],
      "metadata": {
        "id": "FZsi_IbLRfSm"
      }
    },
    {
      "cell_type": "code",
      "source": [
        "# Resize all images to 224x224 pixels\n",
        "import cv2\n",
        "import os\n",
        "from tqdm import tqdm\n",
        "\n",
        "Image_path = r\"/content/drive/MyDrive/Project/DS_task/xray_images\"\n",
        "\n",
        "for count, filename in enumerate(tqdm(os.listdir(Image_path)), start=1):\n",
        "    if filename.lower().endswith(('.png', '.jpg', '.jpeg')):\n",
        "        file_path = os.path.join(Image_path, filename)\n",
        "\n",
        "        # Read image\n",
        "        img = cv2.imread(file_path)\n",
        "        if img is None:\n",
        "            print(f\"Warning: Failed to load image {filename}\")\n",
        "            continue\n",
        "\n",
        "        # Resize image\n",
        "        resized_img = cv2.resize(img, (224, 224))\n",
        "\n",
        "        # Create new filename\n",
        "        new_name = f\"car_26-07-25_P{count}.jpg\"\n",
        "        new_path = os.path.join(Image_path, new_name)\n",
        "\n",
        "        # Save resized image\n",
        "        cv2.imwrite(new_path, resized_img)\n",
        "\n",
        "        # Optionally remove original image\n",
        "        if file_path != new_path:\n",
        "            os.remove(file_path)\n",
        "\n"
      ],
      "metadata": {
        "id": "zdg_TJ38afhz",
        "colab": {
          "base_uri": "https://localhost:8080/"
        },
        "outputId": "548a9f46-ff78-40c8-86ef-d1c10cc3debb"
      },
      "execution_count": null,
      "outputs": [
        {
          "output_type": "stream",
          "name": "stderr",
          "text": [
            "100%|██████████| 3724/3724 [05:20<00:00, 11.61it/s]\n"
          ]
        }
      ]
    },
    {
      "cell_type": "markdown",
      "source": [
        "Apply Gaussian noise to simulate real-world noise.\n",
        "Implement advanced augmentations like rotation, perspective transformation, and histogram equalization."
      ],
      "metadata": {
        "id": "MsODNnqzX7S-"
      }
    },
    {
      "cell_type": "code",
      "source": [
        "import cv2\n",
        "import os\n",
        "import numpy as np\n",
        "from tqdm import tqdm\n",
        "import random\n",
        "\n",
        "Image_path = r\"/content/drive/MyDrive/Project/DS_task/xray_images\"\n",
        "\n",
        "# Folder names for each type\n",
        "folders = {\n",
        "    \"original\": \"original\",\n",
        "    \"flipped\": \"flipped\",\n",
        "    \"noisy\": \"noisy\",\n",
        "    \"bright\": \"bright\",\n",
        "    \"rotated\": \"rotated\",\n",
        "    \"perspective\": \"perspective\",\n",
        "    \"equalized\": \"equalized\"\n",
        "}\n",
        "\n",
        "# Create folders if not exist\n",
        "for folder in folders.values():\n",
        "    folder_path = os.path.join(Image_path, folder)\n",
        "    os.makedirs(folder_path, exist_ok=True)\n",
        "\n",
        "# Augmentation functions\n",
        "def add_gaussian_noise(image, mean=0, std=25):\n",
        "    noise = np.random.normal(mean, std, image.shape).astype(np.float32)\n",
        "    noisy_img = image.astype(np.float32) + noise\n",
        "    return np.clip(noisy_img, 0, 255).astype(np.uint8)\n",
        "\n",
        "def adjust_brightness(image, factor=1.2):\n",
        "    hsv = cv2.cvtColor(image, cv2.COLOR_BGR2HSV).astype(np.float32)\n",
        "    hsv[:, :, 2] *= factor\n",
        "    hsv[:, :, 2] = np.clip(hsv[:, :, 2], 0, 255)\n",
        "    return cv2.cvtColor(hsv.astype(np.uint8), cv2.COLOR_HSV2BGR)\n",
        "\n",
        "def rotate_image(image, angle):\n",
        "    h, w = image.shape[:2]\n",
        "    center = (w // 2, h // 2)\n",
        "    rot_matrix = cv2.getRotationMatrix2D(center, angle, 1.0)\n",
        "    return cv2.warpAffine(image, rot_matrix, (w, h), flags=cv2.INTER_LINEAR, borderMode=cv2.BORDER_REFLECT)\n",
        "\n",
        "def perspective_transform(image):\n",
        "    h, w = image.shape[:2]\n",
        "    margin = 10\n",
        "    pts1 = np.float32([[margin, margin], [w-margin, margin], [margin, h-margin], [w-margin, h-margin]])\n",
        "    pts2 = np.float32([\n",
        "        [margin + random.randint(-5, 5), margin + random.randint(-5, 5)],\n",
        "        [w - margin + random.randint(-5, 5), margin + random.randint(-5, 5)],\n",
        "        [margin + random.randint(-5, 5), h - margin + random.randint(-5, 5)],\n",
        "        [w - margin + random.randint(-5, 5), h - margin + random.randint(-5, 5)],\n",
        "    ])\n",
        "    matrix = cv2.getPerspectiveTransform(pts1, pts2)\n",
        "    return cv2.warpPerspective(image, matrix, (w, h), borderMode=cv2.BORDER_REFLECT)\n",
        "\n",
        "def histogram_equalization(image):\n",
        "    if len(image.shape) == 3 and image.shape[2] == 3:\n",
        "        img_yuv = cv2.cvtColor(image, cv2.COLOR_BGR2YUV)\n",
        "        img_yuv[:, :, 0] = cv2.equalizeHist(img_yuv[:, :, 0])\n",
        "        return cv2.cvtColor(img_yuv, cv2.COLOR_YUV2BGR)\n",
        "    else:\n",
        "        return cv2.equalizeHist(image)\n",
        "\n",
        "# Main processing loop\n",
        "for count, filename in enumerate(tqdm(os.listdir(Image_path)), start=1):\n",
        "    file_path = os.path.join(Image_path, filename)\n",
        "\n",
        "    if not filename.lower().endswith(('.png', '.jpg', '.jpeg')):\n",
        "        continue\n",
        "\n",
        "    img = cv2.imread(file_path)\n",
        "    if img is None:\n",
        "        print(f\"Warning: Failed to load image {filename}\")\n",
        "        continue\n",
        "\n",
        "    img = cv2.resize(img, (224, 224))\n",
        "    base_name = f\"car_26-07-25_P{count}.jpg\"\n",
        "\n",
        "    # Save each augmentation in its folder\n",
        "    cv2.imwrite(os.path.join(Image_path, folders[\"original\"], base_name), img)\n",
        "    cv2.imwrite(os.path.join(Image_path, folders[\"flipped\"], base_name), cv2.flip(img, 1))\n",
        "    cv2.imwrite(os.path.join(Image_path, folders[\"noisy\"], base_name), add_gaussian_noise(img))\n",
        "    cv2.imwrite(os.path.join(Image_path, folders[\"bright\"], base_name), adjust_brightness(img, factor=1.5))\n",
        "    cv2.imwrite(os.path.join(Image_path, folders[\"rotated\"], base_name), rotate_image(img, angle=15))\n",
        "    cv2.imwrite(os.path.join(Image_path, folders[\"perspective\"], base_name), perspective_transform(img))\n",
        "    cv2.imwrite(os.path.join(Image_path, folders[\"equalized\"], base_name), histogram_equalization(img))\n",
        "\n",
        "    # Delete original after processing\n",
        "    os.remove(file_path)\n"
      ],
      "metadata": {
        "id": "3oKLG1I1QeVo"
      },
      "execution_count": null,
      "outputs": []
    },
    {
      "cell_type": "markdown",
      "source": [
        "Split the data into training, validation, and test sets"
      ],
      "metadata": {
        "id": "Ua3gnaAUXz_6"
      }
    },
    {
      "cell_type": "code",
      "source": [
        "import os\n",
        "import shutil\n",
        "import random\n",
        "\n",
        "# Paths\n",
        "base_path = r\"/content/drive/MyDrive/Project/DS_task/xray_images\"\n",
        "output_path = r\"/content/drive/MyDrive/Project/DS_task/split_dataset\"\n",
        "folders = [\"original\", \"flipped\", \"noisy\", \"bright\", \"rotated\", \"perspective\", \"equalized\"]\n",
        "\n",
        "# Split ratios\n",
        "train_ratio = 0.7\n",
        "val_ratio = 0.15\n",
        "test_ratio = 0.15\n",
        "\n",
        "# Create target folders\n",
        "for split in ['train', 'val', 'test']:\n",
        "    for folder in folders:\n",
        "        os.makedirs(os.path.join(output_path, split, folder), exist_ok=True)\n",
        "\n",
        "# Process each augmentation type separately\n",
        "for folder in folders:\n",
        "    src_folder = os.path.join(base_path, folder)\n",
        "    images = [f for f in os.listdir(src_folder) if f.lower().endswith(('.jpg', '.jpeg', '.png'))]\n",
        "    random.shuffle(images)\n",
        "\n",
        "    total = len(images)\n",
        "    train_end = int(train_ratio * total)\n",
        "    val_end = train_end + int(val_ratio * total)\n",
        "\n",
        "    train_files = images[:train_end]\n",
        "    val_files = images[train_end:val_end]\n",
        "    test_files = images[val_end:]\n",
        "\n",
        "    # Copy files to each destination\n",
        "    for file_list, split in zip([train_files, val_files, test_files], ['train', 'val', 'test']):\n",
        "        for file_name in file_list:\n",
        "            src = os.path.join(src_folder, file_name)\n",
        "            dst = os.path.join(output_path, split, folder, file_name)\n",
        "            shutil.copy2(src, dst)\n"
      ],
      "metadata": {
        "id": "Zme49vFyQsCE"
      },
      "execution_count": null,
      "outputs": []
    },
    {
      "cell_type": "markdown",
      "source": [
        "## Step 2: Feature Extraction Using OpenCV\n",
        "Extract features from the images using advanced OpenCV techniques:\n",
        "Use ORB or SIFT to identify keypoints and descriptors.\n",
        "Save the descriptors for visualization and analysis."
      ],
      "metadata": {
        "id": "53U-zLaQYIE9"
      }
    },
    {
      "cell_type": "code",
      "source": [
        "!pip install opencv-python opencv-contrib-python\n"
      ],
      "metadata": {
        "id": "R44HaqKaQsF3",
        "colab": {
          "base_uri": "https://localhost:8080/"
        },
        "outputId": "655e87ac-0cf6-41d7-e8ac-c7bbd946cdac"
      },
      "execution_count": null,
      "outputs": [
        {
          "output_type": "stream",
          "name": "stdout",
          "text": [
            "Requirement already satisfied: opencv-python in /usr/local/lib/python3.11/dist-packages (4.12.0.88)\n",
            "Requirement already satisfied: opencv-contrib-python in /usr/local/lib/python3.11/dist-packages (4.12.0.88)\n",
            "Requirement already satisfied: numpy<2.3.0,>=2 in /usr/local/lib/python3.11/dist-packages (from opencv-python) (2.0.2)\n"
          ]
        }
      ]
    },
    {
      "cell_type": "code",
      "source": [
        "import cv2\n",
        "import os\n",
        "import numpy as np\n",
        "from tqdm import tqdm\n",
        "\n",
        "# Choose one extractor\n",
        "use_sift = True  # set False to use ORB\n",
        "\n",
        "# Input folder (use your split dataset or any one like 'original')\n",
        "input_folder = r\"/content/drive/MyDrive/Project/DS_task/split_dataset/train/original\"\n",
        "\n",
        "# Output folder for descriptors\n",
        "output_folder = r\"/content/drive/MyDrive/Project/DS_task/features/original\"\n",
        "os.makedirs(output_folder, exist_ok=True)\n",
        "\n",
        "# Initialize the feature extractor\n",
        "if use_sift:\n",
        "    extractor = cv2.SIFT_create()\n",
        "    feature_type = \"SIFT\"\n",
        "else:\n",
        "    extractor = cv2.ORB_create()\n",
        "    feature_type = \"ORB\"\n",
        "\n",
        "print(f\"🔍 Using {feature_type} extractor...\")\n",
        "\n",
        "# Loop over images\n",
        "for filename in tqdm(os.listdir(input_folder)):\n",
        "    if not filename.lower().endswith(('.jpg', '.jpeg', '.png')):\n",
        "        continue\n",
        "\n",
        "    img_path = os.path.join(input_folder, filename)\n",
        "    img = cv2.imread(img_path, cv2.IMREAD_GRAYSCALE)\n",
        "\n",
        "    if img is None:\n",
        "        print(f\"⚠️ Failed to load: {filename}\")\n",
        "        continue\n",
        "\n",
        "    # Extract keypoints and descriptors\n",
        "    keypoints, descriptors = extractor.detectAndCompute(img, None)\n",
        "\n",
        "    # Save descriptors as .npy file\n",
        "    if descriptors is not None:\n",
        "        npy_name = filename.rsplit('.', 1)[0] + f\"_{feature_type}.npy\"\n",
        "        np.save(os.path.join(output_folder, npy_name), descriptors)\n"
      ],
      "metadata": {
        "id": "W9_KYdBtQsJU",
        "colab": {
          "base_uri": "https://localhost:8080/"
        },
        "outputId": "cb3d0aae-bd7f-4bee-f88e-c30c6b02c86d"
      },
      "execution_count": null,
      "outputs": [
        {
          "output_type": "stream",
          "name": "stdout",
          "text": [
            "🔍 Using SIFT extractor...\n"
          ]
        },
        {
          "output_type": "stream",
          "name": "stderr",
          "text": [
            "100%|██████████| 2606/2606 [32:09<00:00,  1.35it/s]\n"
          ]
        }
      ]
    },
    {
      "cell_type": "code",
      "source": [
        "### to view the  npy file\n",
        " import os\n",
        "import numpy as np\n",
        "\n",
        "folder = \"/content/drive/MyDrive/Project/DS_task/features/original\"\n",
        "\n",
        "for filename in os.listdir(folder):\n",
        "    if filename.endswith(\".npy\"):\n",
        "        path = os.path.join(folder, filename)\n",
        "        descriptors = np.load(path)\n",
        "        print(f\"{filename} → shape: {descriptors.shape}\")\n"
      ],
      "metadata": {
        "id": "AyWbo2icQsM6"
      },
      "execution_count": null,
      "outputs": []
    },
    {
      "cell_type": "markdown",
      "source": [
        "##  Step 3: Deep Learning Pipelinee\n"
      ],
      "metadata": {
        "id": "IPKo2BErRmj_"
      }
    },
    {
      "cell_type": "code",
      "source": [
        "!pip install tensorflow"
      ],
      "metadata": {
        "id": "alUC_LvBafrQ",
        "colab": {
          "base_uri": "https://localhost:8080/"
        },
        "outputId": "d8224573-8508-4b38-ea83-2cbadd0cd08c"
      },
      "execution_count": null,
      "outputs": [
        {
          "output_type": "stream",
          "name": "stdout",
          "text": [
            "Requirement already satisfied: tensorflow in /usr/local/lib/python3.11/dist-packages (2.18.0)\n",
            "Requirement already satisfied: absl-py>=1.0.0 in /usr/local/lib/python3.11/dist-packages (from tensorflow) (1.4.0)\n",
            "Requirement already satisfied: astunparse>=1.6.0 in /usr/local/lib/python3.11/dist-packages (from tensorflow) (1.6.3)\n",
            "Requirement already satisfied: flatbuffers>=24.3.25 in /usr/local/lib/python3.11/dist-packages (from tensorflow) (25.2.10)\n",
            "Requirement already satisfied: gast!=0.5.0,!=0.5.1,!=0.5.2,>=0.2.1 in /usr/local/lib/python3.11/dist-packages (from tensorflow) (0.6.0)\n",
            "Requirement already satisfied: google-pasta>=0.1.1 in /usr/local/lib/python3.11/dist-packages (from tensorflow) (0.2.0)\n",
            "Requirement already satisfied: libclang>=13.0.0 in /usr/local/lib/python3.11/dist-packages (from tensorflow) (18.1.1)\n",
            "Requirement already satisfied: opt-einsum>=2.3.2 in /usr/local/lib/python3.11/dist-packages (from tensorflow) (3.4.0)\n",
            "Requirement already satisfied: packaging in /usr/local/lib/python3.11/dist-packages (from tensorflow) (25.0)\n",
            "Requirement already satisfied: protobuf!=4.21.0,!=4.21.1,!=4.21.2,!=4.21.3,!=4.21.4,!=4.21.5,<6.0.0dev,>=3.20.3 in /usr/local/lib/python3.11/dist-packages (from tensorflow) (5.29.5)\n",
            "Requirement already satisfied: requests<3,>=2.21.0 in /usr/local/lib/python3.11/dist-packages (from tensorflow) (2.32.3)\n",
            "Requirement already satisfied: setuptools in /usr/local/lib/python3.11/dist-packages (from tensorflow) (75.2.0)\n",
            "Requirement already satisfied: six>=1.12.0 in /usr/local/lib/python3.11/dist-packages (from tensorflow) (1.17.0)\n",
            "Requirement already satisfied: termcolor>=1.1.0 in /usr/local/lib/python3.11/dist-packages (from tensorflow) (3.1.0)\n",
            "Requirement already satisfied: typing-extensions>=3.6.6 in /usr/local/lib/python3.11/dist-packages (from tensorflow) (4.14.1)\n",
            "Requirement already satisfied: wrapt>=1.11.0 in /usr/local/lib/python3.11/dist-packages (from tensorflow) (1.17.2)\n",
            "Requirement already satisfied: grpcio<2.0,>=1.24.3 in /usr/local/lib/python3.11/dist-packages (from tensorflow) (1.73.1)\n",
            "Requirement already satisfied: tensorboard<2.19,>=2.18 in /usr/local/lib/python3.11/dist-packages (from tensorflow) (2.18.0)\n",
            "Requirement already satisfied: keras>=3.5.0 in /usr/local/lib/python3.11/dist-packages (from tensorflow) (3.8.0)\n",
            "Requirement already satisfied: numpy<2.1.0,>=1.26.0 in /usr/local/lib/python3.11/dist-packages (from tensorflow) (2.0.2)\n",
            "Requirement already satisfied: h5py>=3.11.0 in /usr/local/lib/python3.11/dist-packages (from tensorflow) (3.14.0)\n",
            "Requirement already satisfied: ml-dtypes<0.5.0,>=0.4.0 in /usr/local/lib/python3.11/dist-packages (from tensorflow) (0.4.1)\n",
            "Requirement already satisfied: tensorflow-io-gcs-filesystem>=0.23.1 in /usr/local/lib/python3.11/dist-packages (from tensorflow) (0.37.1)\n",
            "Requirement already satisfied: wheel<1.0,>=0.23.0 in /usr/local/lib/python3.11/dist-packages (from astunparse>=1.6.0->tensorflow) (0.45.1)\n",
            "Requirement already satisfied: rich in /usr/local/lib/python3.11/dist-packages (from keras>=3.5.0->tensorflow) (13.9.4)\n",
            "Requirement already satisfied: namex in /usr/local/lib/python3.11/dist-packages (from keras>=3.5.0->tensorflow) (0.1.0)\n",
            "Requirement already satisfied: optree in /usr/local/lib/python3.11/dist-packages (from keras>=3.5.0->tensorflow) (0.16.0)\n",
            "Requirement already satisfied: charset-normalizer<4,>=2 in /usr/local/lib/python3.11/dist-packages (from requests<3,>=2.21.0->tensorflow) (3.4.2)\n",
            "Requirement already satisfied: idna<4,>=2.5 in /usr/local/lib/python3.11/dist-packages (from requests<3,>=2.21.0->tensorflow) (3.10)\n",
            "Requirement already satisfied: urllib3<3,>=1.21.1 in /usr/local/lib/python3.11/dist-packages (from requests<3,>=2.21.0->tensorflow) (2.5.0)\n",
            "Requirement already satisfied: certifi>=2017.4.17 in /usr/local/lib/python3.11/dist-packages (from requests<3,>=2.21.0->tensorflow) (2025.7.14)\n",
            "Requirement already satisfied: markdown>=2.6.8 in /usr/local/lib/python3.11/dist-packages (from tensorboard<2.19,>=2.18->tensorflow) (3.8.2)\n",
            "Requirement already satisfied: tensorboard-data-server<0.8.0,>=0.7.0 in /usr/local/lib/python3.11/dist-packages (from tensorboard<2.19,>=2.18->tensorflow) (0.7.2)\n",
            "Requirement already satisfied: werkzeug>=1.0.1 in /usr/local/lib/python3.11/dist-packages (from tensorboard<2.19,>=2.18->tensorflow) (3.1.3)\n",
            "Requirement already satisfied: MarkupSafe>=2.1.1 in /usr/local/lib/python3.11/dist-packages (from werkzeug>=1.0.1->tensorboard<2.19,>=2.18->tensorflow) (3.0.2)\n",
            "Requirement already satisfied: markdown-it-py>=2.2.0 in /usr/local/lib/python3.11/dist-packages (from rich->keras>=3.5.0->tensorflow) (3.0.0)\n",
            "Requirement already satisfied: pygments<3.0.0,>=2.13.0 in /usr/local/lib/python3.11/dist-packages (from rich->keras>=3.5.0->tensorflow) (2.19.2)\n",
            "Requirement already satisfied: mdurl~=0.1 in /usr/local/lib/python3.11/dist-packages (from markdown-it-py>=2.2.0->rich->keras>=3.5.0->tensorflow) (0.1.2)\n"
          ]
        }
      ]
    },
    {
      "cell_type": "code",
      "source": [
        "import tensorflow as tf\n",
        "\n",
        "# Replace 224 with 128 for faster testing (optional)\n",
        "img_size = (224, 224)\n",
        "batch_size = 32\n",
        "\n",
        "# Load datasets first\n",
        "raw_train_data = tf.keras.utils.image_dataset_from_directory(\n",
        "    \"/content/drive/MyDrive/Project/DS_task/split_dataset/train\",\n",
        "    image_size=(224, 224),\n",
        "    batch_size=32,\n",
        "    label_mode='categorical'\n",
        ")\n",
        "\n",
        "# ✅ Get class names BEFORE caching/prefetching\n",
        "num_classes = len(raw_train_data.class_names)\n",
        "\n",
        "# Now cache and prefetch for performance\n",
        "train_data = raw_train_data.cache().prefetch(tf.data.AUTOTUNE)\n",
        "\n",
        "val_data = tf.keras.utils.image_dataset_from_directory(\n",
        "    \"/content/drive/MyDrive/Project/DS_task/split_dataset/val\",\n",
        "    image_size=(224, 224),\n",
        "    batch_size=32,\n",
        "    label_mode='categorical'\n",
        ").cache().prefetch(tf.data.AUTOTUNE)\n",
        "\n",
        "\n",
        "test_data = tf.keras.utils.image_dataset_from_directory(\n",
        "    \"/content/drive/MyDrive/Project/DS_task/split_dataset/test\",\n",
        "    image_size=img_size,\n",
        "    batch_size=batch_size,\n",
        "    label_mode='categorical'\n",
        ").cache().prefetch(tf.data.AUTOTUNE)\n",
        "\n"
      ],
      "metadata": {
        "colab": {
          "base_uri": "https://localhost:8080/"
        },
        "id": "7WgcctXTLqqZ",
        "outputId": "38655d5c-b47d-43c2-fb72-0d56b4e0a440"
      },
      "execution_count": null,
      "outputs": [
        {
          "output_type": "stream",
          "name": "stdout",
          "text": [
            "Found 18242 files belonging to 7 classes.\n",
            "Found 3906 files belonging to 7 classes.\n",
            "Found 3920 files belonging to 7 classes.\n"
          ]
        }
      ]
    },
    {
      "cell_type": "code",
      "source": [
        "# Use MobileNetV2\n",
        "from tensorflow.keras.applications import MobileNetV2\n",
        "from tensorflow.keras.layers import GlobalAveragePooling2D, Dense, Dropout\n",
        "from tensorflow.keras.models import Model\n",
        "\n",
        "base_model = MobileNetV2(weights='imagenet', include_top=False, input_shape=(224, 224, 3))\n",
        "base_model.trainable = False  # Freeze base layers for transfer learning\n",
        "\n",
        "# ✅ Use class count from raw_train_data\n",
        "num_classes = len(raw_train_data.class_names)\n",
        "\n",
        "x = base_model.output\n",
        "x = GlobalAveragePooling2D()(x)\n",
        "x = Dropout(0.3)(x)\n",
        "x = Dense(128, activation=\"relu\")(x)\n",
        "output = Dense(num_classes, activation=\"softmax\")(x)\n",
        "\n",
        "model = Model(inputs=base_model.input, outputs=output)\n"
      ],
      "metadata": {
        "id": "ERUYyj9wLsNX"
      },
      "execution_count": null,
      "outputs": []
    },
    {
      "cell_type": "code",
      "source": [
        "model.compile(\n",
        "    optimizer=tf.keras.optimizers.Adam(learning_rate=1e-4),\n",
        "    loss='categorical_crossentropy',\n",
        "    metrics=['accuracy']\n",
        ")\n"
      ],
      "metadata": {
        "id": "xYhTuL2tMfGq"
      },
      "execution_count": null,
      "outputs": []
    },
    {
      "cell_type": "code",
      "source": [
        "save_path = '/content/drive/MyDrive/Project/DS_task/best_model.h5'"
      ],
      "metadata": {
        "id": "IyC877W3OzhN"
      },
      "execution_count": null,
      "outputs": []
    },
    {
      "cell_type": "code",
      "source": [
        "# from tensorflow.keras.callbacks import ModelCheckpoint\n",
        "\n",
        "# checkpoint = ModelCheckpoint(\n",
        "#     '/content/drive/MyDrive/Project/DS_task/model_epoch_{epoch:02d}.h5',  # Save a new file each epoch\n",
        "#     save_best_only=False,   # ✅ Always save\n",
        "#     verbose=1,\n",
        "#     save_freq='epoch'\n",
        "# )\n",
        "\n",
        "\n",
        "# for i in range(10):\n",
        "#     print(f\"Epoch {i+1}/10\")\n",
        "#     model.fit(\n",
        "#         train_data,\n",
        "#         epochs=1,\n",
        "#         validation_data=val_data,\n",
        "#         callbacks=[checkpoint]\n",
        "#     )\n"
      ],
      "metadata": {
        "colab": {
          "base_uri": "https://localhost:8080/",
          "height": 408
        },
        "id": "27CWl3nnwBQM",
        "outputId": "acb56241-4ac1-4389-eb76-e55a65526def"
      },
      "execution_count": null,
      "outputs": [
        {
          "output_type": "stream",
          "name": "stdout",
          "text": [
            "Epoch 1/10\n",
            "\u001b[1m 92/571\u001b[0m \u001b[32m━━━\u001b[0m\u001b[37m━━━━━━━━━━━━━━━━━\u001b[0m \u001b[1m14:02\u001b[0m 2s/step - accuracy: 0.2688 - loss: 2.0048"
          ]
        },
        {
          "output_type": "error",
          "ename": "KeyboardInterrupt",
          "evalue": "",
          "traceback": [
            "\u001b[0;31m---------------------------------------------------------------------------\u001b[0m",
            "\u001b[0;31mKeyboardInterrupt\u001b[0m                         Traceback (most recent call last)",
            "\u001b[0;32m/tmp/ipython-input-9-194227265.py\u001b[0m in \u001b[0;36m<cell line: 0>\u001b[0;34m()\u001b[0m\n\u001b[1;32m     11\u001b[0m \u001b[0;32mfor\u001b[0m \u001b[0mi\u001b[0m \u001b[0;32min\u001b[0m \u001b[0mrange\u001b[0m\u001b[0;34m(\u001b[0m\u001b[0;36m10\u001b[0m\u001b[0;34m)\u001b[0m\u001b[0;34m:\u001b[0m\u001b[0;34m\u001b[0m\u001b[0;34m\u001b[0m\u001b[0m\n\u001b[1;32m     12\u001b[0m     \u001b[0mprint\u001b[0m\u001b[0;34m(\u001b[0m\u001b[0;34mf\"Epoch {i+1}/10\"\u001b[0m\u001b[0;34m)\u001b[0m\u001b[0;34m\u001b[0m\u001b[0;34m\u001b[0m\u001b[0m\n\u001b[0;32m---> 13\u001b[0;31m     model.fit(\n\u001b[0m\u001b[1;32m     14\u001b[0m         \u001b[0mtrain_data\u001b[0m\u001b[0;34m,\u001b[0m\u001b[0;34m\u001b[0m\u001b[0;34m\u001b[0m\u001b[0m\n\u001b[1;32m     15\u001b[0m         \u001b[0mepochs\u001b[0m\u001b[0;34m=\u001b[0m\u001b[0;36m1\u001b[0m\u001b[0;34m,\u001b[0m\u001b[0;34m\u001b[0m\u001b[0;34m\u001b[0m\u001b[0m\n",
            "\u001b[0;32m/usr/local/lib/python3.11/dist-packages/keras/src/utils/traceback_utils.py\u001b[0m in \u001b[0;36merror_handler\u001b[0;34m(*args, **kwargs)\u001b[0m\n\u001b[1;32m    115\u001b[0m         \u001b[0mfiltered_tb\u001b[0m \u001b[0;34m=\u001b[0m \u001b[0;32mNone\u001b[0m\u001b[0;34m\u001b[0m\u001b[0;34m\u001b[0m\u001b[0m\n\u001b[1;32m    116\u001b[0m         \u001b[0;32mtry\u001b[0m\u001b[0;34m:\u001b[0m\u001b[0;34m\u001b[0m\u001b[0;34m\u001b[0m\u001b[0m\n\u001b[0;32m--> 117\u001b[0;31m             \u001b[0;32mreturn\u001b[0m \u001b[0mfn\u001b[0m\u001b[0;34m(\u001b[0m\u001b[0;34m*\u001b[0m\u001b[0margs\u001b[0m\u001b[0;34m,\u001b[0m \u001b[0;34m**\u001b[0m\u001b[0mkwargs\u001b[0m\u001b[0;34m)\u001b[0m\u001b[0;34m\u001b[0m\u001b[0;34m\u001b[0m\u001b[0m\n\u001b[0m\u001b[1;32m    118\u001b[0m         \u001b[0;32mexcept\u001b[0m \u001b[0mException\u001b[0m \u001b[0;32mas\u001b[0m \u001b[0me\u001b[0m\u001b[0;34m:\u001b[0m\u001b[0;34m\u001b[0m\u001b[0;34m\u001b[0m\u001b[0m\n\u001b[1;32m    119\u001b[0m             \u001b[0mfiltered_tb\u001b[0m \u001b[0;34m=\u001b[0m \u001b[0m_process_traceback_frames\u001b[0m\u001b[0;34m(\u001b[0m\u001b[0me\u001b[0m\u001b[0;34m.\u001b[0m\u001b[0m__traceback__\u001b[0m\u001b[0;34m)\u001b[0m\u001b[0;34m\u001b[0m\u001b[0;34m\u001b[0m\u001b[0m\n",
            "\u001b[0;32m/usr/local/lib/python3.11/dist-packages/keras/src/backend/tensorflow/trainer.py\u001b[0m in \u001b[0;36mfit\u001b[0;34m(self, x, y, batch_size, epochs, verbose, callbacks, validation_split, validation_data, shuffle, class_weight, sample_weight, initial_epoch, steps_per_epoch, validation_steps, validation_batch_size, validation_freq)\u001b[0m\n\u001b[1;32m    369\u001b[0m                 \u001b[0;32mfor\u001b[0m \u001b[0mstep\u001b[0m\u001b[0;34m,\u001b[0m \u001b[0miterator\u001b[0m \u001b[0;32min\u001b[0m \u001b[0mepoch_iterator\u001b[0m\u001b[0;34m:\u001b[0m\u001b[0;34m\u001b[0m\u001b[0;34m\u001b[0m\u001b[0m\n\u001b[1;32m    370\u001b[0m                     \u001b[0mcallbacks\u001b[0m\u001b[0;34m.\u001b[0m\u001b[0mon_train_batch_begin\u001b[0m\u001b[0;34m(\u001b[0m\u001b[0mstep\u001b[0m\u001b[0;34m)\u001b[0m\u001b[0;34m\u001b[0m\u001b[0;34m\u001b[0m\u001b[0m\n\u001b[0;32m--> 371\u001b[0;31m                     \u001b[0mlogs\u001b[0m \u001b[0;34m=\u001b[0m \u001b[0mself\u001b[0m\u001b[0;34m.\u001b[0m\u001b[0mtrain_function\u001b[0m\u001b[0;34m(\u001b[0m\u001b[0miterator\u001b[0m\u001b[0;34m)\u001b[0m\u001b[0;34m\u001b[0m\u001b[0;34m\u001b[0m\u001b[0m\n\u001b[0m\u001b[1;32m    372\u001b[0m                     \u001b[0mcallbacks\u001b[0m\u001b[0;34m.\u001b[0m\u001b[0mon_train_batch_end\u001b[0m\u001b[0;34m(\u001b[0m\u001b[0mstep\u001b[0m\u001b[0;34m,\u001b[0m \u001b[0mlogs\u001b[0m\u001b[0;34m)\u001b[0m\u001b[0;34m\u001b[0m\u001b[0;34m\u001b[0m\u001b[0m\n\u001b[1;32m    373\u001b[0m                     \u001b[0;32mif\u001b[0m \u001b[0mself\u001b[0m\u001b[0;34m.\u001b[0m\u001b[0mstop_training\u001b[0m\u001b[0;34m:\u001b[0m\u001b[0;34m\u001b[0m\u001b[0;34m\u001b[0m\u001b[0m\n",
            "\u001b[0;32m/usr/local/lib/python3.11/dist-packages/keras/src/backend/tensorflow/trainer.py\u001b[0m in \u001b[0;36mfunction\u001b[0;34m(iterator)\u001b[0m\n\u001b[1;32m    217\u001b[0m                 \u001b[0miterator\u001b[0m\u001b[0;34m,\u001b[0m \u001b[0;34m(\u001b[0m\u001b[0mtf\u001b[0m\u001b[0;34m.\u001b[0m\u001b[0mdata\u001b[0m\u001b[0;34m.\u001b[0m\u001b[0mIterator\u001b[0m\u001b[0;34m,\u001b[0m \u001b[0mtf\u001b[0m\u001b[0;34m.\u001b[0m\u001b[0mdistribute\u001b[0m\u001b[0;34m.\u001b[0m\u001b[0mDistributedIterator\u001b[0m\u001b[0;34m)\u001b[0m\u001b[0;34m\u001b[0m\u001b[0;34m\u001b[0m\u001b[0m\n\u001b[1;32m    218\u001b[0m             ):\n\u001b[0;32m--> 219\u001b[0;31m                 \u001b[0mopt_outputs\u001b[0m \u001b[0;34m=\u001b[0m \u001b[0mmulti_step_on_iterator\u001b[0m\u001b[0;34m(\u001b[0m\u001b[0miterator\u001b[0m\u001b[0;34m)\u001b[0m\u001b[0;34m\u001b[0m\u001b[0;34m\u001b[0m\u001b[0m\n\u001b[0m\u001b[1;32m    220\u001b[0m                 \u001b[0;32mif\u001b[0m \u001b[0;32mnot\u001b[0m \u001b[0mopt_outputs\u001b[0m\u001b[0;34m.\u001b[0m\u001b[0mhas_value\u001b[0m\u001b[0;34m(\u001b[0m\u001b[0;34m)\u001b[0m\u001b[0;34m:\u001b[0m\u001b[0;34m\u001b[0m\u001b[0;34m\u001b[0m\u001b[0m\n\u001b[1;32m    221\u001b[0m                     \u001b[0;32mraise\u001b[0m \u001b[0mStopIteration\u001b[0m\u001b[0;34m\u001b[0m\u001b[0;34m\u001b[0m\u001b[0m\n",
            "\u001b[0;32m/usr/local/lib/python3.11/dist-packages/tensorflow/python/util/traceback_utils.py\u001b[0m in \u001b[0;36merror_handler\u001b[0;34m(*args, **kwargs)\u001b[0m\n\u001b[1;32m    148\u001b[0m     \u001b[0mfiltered_tb\u001b[0m \u001b[0;34m=\u001b[0m \u001b[0;32mNone\u001b[0m\u001b[0;34m\u001b[0m\u001b[0;34m\u001b[0m\u001b[0m\n\u001b[1;32m    149\u001b[0m     \u001b[0;32mtry\u001b[0m\u001b[0;34m:\u001b[0m\u001b[0;34m\u001b[0m\u001b[0;34m\u001b[0m\u001b[0m\n\u001b[0;32m--> 150\u001b[0;31m       \u001b[0;32mreturn\u001b[0m \u001b[0mfn\u001b[0m\u001b[0;34m(\u001b[0m\u001b[0;34m*\u001b[0m\u001b[0margs\u001b[0m\u001b[0;34m,\u001b[0m \u001b[0;34m**\u001b[0m\u001b[0mkwargs\u001b[0m\u001b[0;34m)\u001b[0m\u001b[0;34m\u001b[0m\u001b[0;34m\u001b[0m\u001b[0m\n\u001b[0m\u001b[1;32m    151\u001b[0m     \u001b[0;32mexcept\u001b[0m \u001b[0mException\u001b[0m \u001b[0;32mas\u001b[0m \u001b[0me\u001b[0m\u001b[0;34m:\u001b[0m\u001b[0;34m\u001b[0m\u001b[0;34m\u001b[0m\u001b[0m\n\u001b[1;32m    152\u001b[0m       \u001b[0mfiltered_tb\u001b[0m \u001b[0;34m=\u001b[0m \u001b[0m_process_traceback_frames\u001b[0m\u001b[0;34m(\u001b[0m\u001b[0me\u001b[0m\u001b[0;34m.\u001b[0m\u001b[0m__traceback__\u001b[0m\u001b[0;34m)\u001b[0m\u001b[0;34m\u001b[0m\u001b[0;34m\u001b[0m\u001b[0m\n",
            "\u001b[0;32m/usr/local/lib/python3.11/dist-packages/tensorflow/python/eager/polymorphic_function/polymorphic_function.py\u001b[0m in \u001b[0;36m__call__\u001b[0;34m(self, *args, **kwds)\u001b[0m\n\u001b[1;32m    831\u001b[0m \u001b[0;34m\u001b[0m\u001b[0m\n\u001b[1;32m    832\u001b[0m       \u001b[0;32mwith\u001b[0m \u001b[0mOptionalXlaContext\u001b[0m\u001b[0;34m(\u001b[0m\u001b[0mself\u001b[0m\u001b[0;34m.\u001b[0m\u001b[0m_jit_compile\u001b[0m\u001b[0;34m)\u001b[0m\u001b[0;34m:\u001b[0m\u001b[0;34m\u001b[0m\u001b[0;34m\u001b[0m\u001b[0m\n\u001b[0;32m--> 833\u001b[0;31m         \u001b[0mresult\u001b[0m \u001b[0;34m=\u001b[0m \u001b[0mself\u001b[0m\u001b[0;34m.\u001b[0m\u001b[0m_call\u001b[0m\u001b[0;34m(\u001b[0m\u001b[0;34m*\u001b[0m\u001b[0margs\u001b[0m\u001b[0;34m,\u001b[0m \u001b[0;34m**\u001b[0m\u001b[0mkwds\u001b[0m\u001b[0;34m)\u001b[0m\u001b[0;34m\u001b[0m\u001b[0;34m\u001b[0m\u001b[0m\n\u001b[0m\u001b[1;32m    834\u001b[0m \u001b[0;34m\u001b[0m\u001b[0m\n\u001b[1;32m    835\u001b[0m       \u001b[0mnew_tracing_count\u001b[0m \u001b[0;34m=\u001b[0m \u001b[0mself\u001b[0m\u001b[0;34m.\u001b[0m\u001b[0mexperimental_get_tracing_count\u001b[0m\u001b[0;34m(\u001b[0m\u001b[0;34m)\u001b[0m\u001b[0;34m\u001b[0m\u001b[0;34m\u001b[0m\u001b[0m\n",
            "\u001b[0;32m/usr/local/lib/python3.11/dist-packages/tensorflow/python/eager/polymorphic_function/polymorphic_function.py\u001b[0m in \u001b[0;36m_call\u001b[0;34m(self, *args, **kwds)\u001b[0m\n\u001b[1;32m    876\u001b[0m       \u001b[0;31m# In this case we have not created variables on the first call. So we can\u001b[0m\u001b[0;34m\u001b[0m\u001b[0;34m\u001b[0m\u001b[0m\n\u001b[1;32m    877\u001b[0m       \u001b[0;31m# run the first trace but we should fail if variables are created.\u001b[0m\u001b[0;34m\u001b[0m\u001b[0;34m\u001b[0m\u001b[0m\n\u001b[0;32m--> 878\u001b[0;31m       results = tracing_compilation.call_function(\n\u001b[0m\u001b[1;32m    879\u001b[0m           \u001b[0margs\u001b[0m\u001b[0;34m,\u001b[0m \u001b[0mkwds\u001b[0m\u001b[0;34m,\u001b[0m \u001b[0mself\u001b[0m\u001b[0;34m.\u001b[0m\u001b[0m_variable_creation_config\u001b[0m\u001b[0;34m\u001b[0m\u001b[0;34m\u001b[0m\u001b[0m\n\u001b[1;32m    880\u001b[0m       )\n",
            "\u001b[0;32m/usr/local/lib/python3.11/dist-packages/tensorflow/python/eager/polymorphic_function/tracing_compilation.py\u001b[0m in \u001b[0;36mcall_function\u001b[0;34m(args, kwargs, tracing_options)\u001b[0m\n\u001b[1;32m    137\u001b[0m   \u001b[0mbound_args\u001b[0m \u001b[0;34m=\u001b[0m \u001b[0mfunction\u001b[0m\u001b[0;34m.\u001b[0m\u001b[0mfunction_type\u001b[0m\u001b[0;34m.\u001b[0m\u001b[0mbind\u001b[0m\u001b[0;34m(\u001b[0m\u001b[0;34m*\u001b[0m\u001b[0margs\u001b[0m\u001b[0;34m,\u001b[0m \u001b[0;34m**\u001b[0m\u001b[0mkwargs\u001b[0m\u001b[0;34m)\u001b[0m\u001b[0;34m\u001b[0m\u001b[0;34m\u001b[0m\u001b[0m\n\u001b[1;32m    138\u001b[0m   \u001b[0mflat_inputs\u001b[0m \u001b[0;34m=\u001b[0m \u001b[0mfunction\u001b[0m\u001b[0;34m.\u001b[0m\u001b[0mfunction_type\u001b[0m\u001b[0;34m.\u001b[0m\u001b[0munpack_inputs\u001b[0m\u001b[0;34m(\u001b[0m\u001b[0mbound_args\u001b[0m\u001b[0;34m)\u001b[0m\u001b[0;34m\u001b[0m\u001b[0;34m\u001b[0m\u001b[0m\n\u001b[0;32m--> 139\u001b[0;31m   return function._call_flat(  # pylint: disable=protected-access\n\u001b[0m\u001b[1;32m    140\u001b[0m       \u001b[0mflat_inputs\u001b[0m\u001b[0;34m,\u001b[0m \u001b[0mcaptured_inputs\u001b[0m\u001b[0;34m=\u001b[0m\u001b[0mfunction\u001b[0m\u001b[0;34m.\u001b[0m\u001b[0mcaptured_inputs\u001b[0m\u001b[0;34m\u001b[0m\u001b[0;34m\u001b[0m\u001b[0m\n\u001b[1;32m    141\u001b[0m   )\n",
            "\u001b[0;32m/usr/local/lib/python3.11/dist-packages/tensorflow/python/eager/polymorphic_function/concrete_function.py\u001b[0m in \u001b[0;36m_call_flat\u001b[0;34m(self, tensor_inputs, captured_inputs)\u001b[0m\n\u001b[1;32m   1320\u001b[0m         and executing_eagerly):\n\u001b[1;32m   1321\u001b[0m       \u001b[0;31m# No tape is watching; skip to running the function.\u001b[0m\u001b[0;34m\u001b[0m\u001b[0;34m\u001b[0m\u001b[0m\n\u001b[0;32m-> 1322\u001b[0;31m       \u001b[0;32mreturn\u001b[0m \u001b[0mself\u001b[0m\u001b[0;34m.\u001b[0m\u001b[0m_inference_function\u001b[0m\u001b[0;34m.\u001b[0m\u001b[0mcall_preflattened\u001b[0m\u001b[0;34m(\u001b[0m\u001b[0margs\u001b[0m\u001b[0;34m)\u001b[0m\u001b[0;34m\u001b[0m\u001b[0;34m\u001b[0m\u001b[0m\n\u001b[0m\u001b[1;32m   1323\u001b[0m     forward_backward = self._select_forward_and_backward_functions(\n\u001b[1;32m   1324\u001b[0m         \u001b[0margs\u001b[0m\u001b[0;34m,\u001b[0m\u001b[0;34m\u001b[0m\u001b[0;34m\u001b[0m\u001b[0m\n",
            "\u001b[0;32m/usr/local/lib/python3.11/dist-packages/tensorflow/python/eager/polymorphic_function/atomic_function.py\u001b[0m in \u001b[0;36mcall_preflattened\u001b[0;34m(self, args)\u001b[0m\n\u001b[1;32m    214\u001b[0m   \u001b[0;32mdef\u001b[0m \u001b[0mcall_preflattened\u001b[0m\u001b[0;34m(\u001b[0m\u001b[0mself\u001b[0m\u001b[0;34m,\u001b[0m \u001b[0margs\u001b[0m\u001b[0;34m:\u001b[0m \u001b[0mSequence\u001b[0m\u001b[0;34m[\u001b[0m\u001b[0mcore\u001b[0m\u001b[0;34m.\u001b[0m\u001b[0mTensor\u001b[0m\u001b[0;34m]\u001b[0m\u001b[0;34m)\u001b[0m \u001b[0;34m->\u001b[0m \u001b[0mAny\u001b[0m\u001b[0;34m:\u001b[0m\u001b[0;34m\u001b[0m\u001b[0;34m\u001b[0m\u001b[0m\n\u001b[1;32m    215\u001b[0m     \u001b[0;34m\"\"\"Calls with flattened tensor inputs and returns the structured output.\"\"\"\u001b[0m\u001b[0;34m\u001b[0m\u001b[0;34m\u001b[0m\u001b[0m\n\u001b[0;32m--> 216\u001b[0;31m     \u001b[0mflat_outputs\u001b[0m \u001b[0;34m=\u001b[0m \u001b[0mself\u001b[0m\u001b[0;34m.\u001b[0m\u001b[0mcall_flat\u001b[0m\u001b[0;34m(\u001b[0m\u001b[0;34m*\u001b[0m\u001b[0margs\u001b[0m\u001b[0;34m)\u001b[0m\u001b[0;34m\u001b[0m\u001b[0;34m\u001b[0m\u001b[0m\n\u001b[0m\u001b[1;32m    217\u001b[0m     \u001b[0;32mreturn\u001b[0m \u001b[0mself\u001b[0m\u001b[0;34m.\u001b[0m\u001b[0mfunction_type\u001b[0m\u001b[0;34m.\u001b[0m\u001b[0mpack_output\u001b[0m\u001b[0;34m(\u001b[0m\u001b[0mflat_outputs\u001b[0m\u001b[0;34m)\u001b[0m\u001b[0;34m\u001b[0m\u001b[0;34m\u001b[0m\u001b[0m\n\u001b[1;32m    218\u001b[0m \u001b[0;34m\u001b[0m\u001b[0m\n",
            "\u001b[0;32m/usr/local/lib/python3.11/dist-packages/tensorflow/python/eager/polymorphic_function/atomic_function.py\u001b[0m in \u001b[0;36mcall_flat\u001b[0;34m(self, *args)\u001b[0m\n\u001b[1;32m    249\u001b[0m         \u001b[0;32mwith\u001b[0m \u001b[0mrecord\u001b[0m\u001b[0;34m.\u001b[0m\u001b[0mstop_recording\u001b[0m\u001b[0;34m(\u001b[0m\u001b[0;34m)\u001b[0m\u001b[0;34m:\u001b[0m\u001b[0;34m\u001b[0m\u001b[0;34m\u001b[0m\u001b[0m\n\u001b[1;32m    250\u001b[0m           \u001b[0;32mif\u001b[0m \u001b[0mself\u001b[0m\u001b[0;34m.\u001b[0m\u001b[0m_bound_context\u001b[0m\u001b[0;34m.\u001b[0m\u001b[0mexecuting_eagerly\u001b[0m\u001b[0;34m(\u001b[0m\u001b[0;34m)\u001b[0m\u001b[0;34m:\u001b[0m\u001b[0;34m\u001b[0m\u001b[0;34m\u001b[0m\u001b[0m\n\u001b[0;32m--> 251\u001b[0;31m             outputs = self._bound_context.call_function(\n\u001b[0m\u001b[1;32m    252\u001b[0m                 \u001b[0mself\u001b[0m\u001b[0;34m.\u001b[0m\u001b[0mname\u001b[0m\u001b[0;34m,\u001b[0m\u001b[0;34m\u001b[0m\u001b[0;34m\u001b[0m\u001b[0m\n\u001b[1;32m    253\u001b[0m                 \u001b[0mlist\u001b[0m\u001b[0;34m(\u001b[0m\u001b[0margs\u001b[0m\u001b[0;34m)\u001b[0m\u001b[0;34m,\u001b[0m\u001b[0;34m\u001b[0m\u001b[0;34m\u001b[0m\u001b[0m\n",
            "\u001b[0;32m/usr/local/lib/python3.11/dist-packages/tensorflow/python/eager/context.py\u001b[0m in \u001b[0;36mcall_function\u001b[0;34m(self, name, tensor_inputs, num_outputs)\u001b[0m\n\u001b[1;32m   1681\u001b[0m     \u001b[0mcancellation_context\u001b[0m \u001b[0;34m=\u001b[0m \u001b[0mcancellation\u001b[0m\u001b[0;34m.\u001b[0m\u001b[0mcontext\u001b[0m\u001b[0;34m(\u001b[0m\u001b[0;34m)\u001b[0m\u001b[0;34m\u001b[0m\u001b[0;34m\u001b[0m\u001b[0m\n\u001b[1;32m   1682\u001b[0m     \u001b[0;32mif\u001b[0m \u001b[0mcancellation_context\u001b[0m \u001b[0;32mis\u001b[0m \u001b[0;32mNone\u001b[0m\u001b[0;34m:\u001b[0m\u001b[0;34m\u001b[0m\u001b[0;34m\u001b[0m\u001b[0m\n\u001b[0;32m-> 1683\u001b[0;31m       outputs = execute.execute(\n\u001b[0m\u001b[1;32m   1684\u001b[0m           \u001b[0mname\u001b[0m\u001b[0;34m.\u001b[0m\u001b[0mdecode\u001b[0m\u001b[0;34m(\u001b[0m\u001b[0;34m\"utf-8\"\u001b[0m\u001b[0;34m)\u001b[0m\u001b[0;34m,\u001b[0m\u001b[0;34m\u001b[0m\u001b[0;34m\u001b[0m\u001b[0m\n\u001b[1;32m   1685\u001b[0m           \u001b[0mnum_outputs\u001b[0m\u001b[0;34m=\u001b[0m\u001b[0mnum_outputs\u001b[0m\u001b[0;34m,\u001b[0m\u001b[0;34m\u001b[0m\u001b[0;34m\u001b[0m\u001b[0m\n",
            "\u001b[0;32m/usr/local/lib/python3.11/dist-packages/tensorflow/python/eager/execute.py\u001b[0m in \u001b[0;36mquick_execute\u001b[0;34m(op_name, num_outputs, inputs, attrs, ctx, name)\u001b[0m\n\u001b[1;32m     51\u001b[0m   \u001b[0;32mtry\u001b[0m\u001b[0;34m:\u001b[0m\u001b[0;34m\u001b[0m\u001b[0;34m\u001b[0m\u001b[0m\n\u001b[1;32m     52\u001b[0m     \u001b[0mctx\u001b[0m\u001b[0;34m.\u001b[0m\u001b[0mensure_initialized\u001b[0m\u001b[0;34m(\u001b[0m\u001b[0;34m)\u001b[0m\u001b[0;34m\u001b[0m\u001b[0;34m\u001b[0m\u001b[0m\n\u001b[0;32m---> 53\u001b[0;31m     tensors = pywrap_tfe.TFE_Py_Execute(ctx._handle, device_name, op_name,\n\u001b[0m\u001b[1;32m     54\u001b[0m                                         inputs, attrs, num_outputs)\n\u001b[1;32m     55\u001b[0m   \u001b[0;32mexcept\u001b[0m \u001b[0mcore\u001b[0m\u001b[0;34m.\u001b[0m\u001b[0m_NotOkStatusException\u001b[0m \u001b[0;32mas\u001b[0m \u001b[0me\u001b[0m\u001b[0;34m:\u001b[0m\u001b[0;34m\u001b[0m\u001b[0;34m\u001b[0m\u001b[0m\n",
            "\u001b[0;31mKeyboardInterrupt\u001b[0m: "
          ]
        }
      ]
    },
    {
      "cell_type": "code",
      "source": [
        "# Just for demo: save after N batches\n",
        "batch_count = 0\n",
        "for x, y in train_data:\n",
        "    batch_count += 1\n",
        "    model.train_on_batch(x, y)\n",
        "\n",
        "    if batch_count % 10 == 0:  # Save every 10 batches\n",
        "        model.save('/content/drive/MyDrive/Project/DS_task/manual_batch_model.h5')\n",
        "        print(f\"✅ Saved model at batch {batch_count}\")\n",
        "\n",
        "    if batch_count >= 100:  # Optional limit\n",
        "        break\n",
        "subset_train = train_data.take(50)  # Takes only 50 batches\n",
        "model.fit(subset_train, epochs=1, validation_data=val_data, callbacks=[checkpoint])\n"
      ],
      "metadata": {
        "colab": {
          "base_uri": "https://localhost:8080/"
        },
        "id": "GFJdh9hZS-H3",
        "outputId": "77e69ca6-d24f-40e2-a6a3-8caa578c565e"
      },
      "execution_count": null,
      "outputs": [
        {
          "output_type": "stream",
          "name": "stderr",
          "text": [
            "WARNING:absl:You are saving your model as an HDF5 file via `model.save()` or `keras.saving.save_model(model)`. This file format is considered legacy. We recommend using instead the native Keras format, e.g. `model.save('my_model.keras')` or `keras.saving.save_model(model, 'my_model.keras')`. \n"
          ]
        },
        {
          "output_type": "stream",
          "name": "stdout",
          "text": [
            "✅ Saved model at batch 10\n"
          ]
        },
        {
          "output_type": "stream",
          "name": "stderr",
          "text": [
            "WARNING:absl:You are saving your model as an HDF5 file via `model.save()` or `keras.saving.save_model(model)`. This file format is considered legacy. We recommend using instead the native Keras format, e.g. `model.save('my_model.keras')` or `keras.saving.save_model(model, 'my_model.keras')`. \n"
          ]
        },
        {
          "output_type": "stream",
          "name": "stdout",
          "text": [
            "✅ Saved model at batch 20\n"
          ]
        },
        {
          "output_type": "stream",
          "name": "stderr",
          "text": [
            "WARNING:absl:You are saving your model as an HDF5 file via `model.save()` or `keras.saving.save_model(model)`. This file format is considered legacy. We recommend using instead the native Keras format, e.g. `model.save('my_model.keras')` or `keras.saving.save_model(model, 'my_model.keras')`. \n"
          ]
        },
        {
          "output_type": "stream",
          "name": "stdout",
          "text": [
            "✅ Saved model at batch 30\n"
          ]
        },
        {
          "output_type": "stream",
          "name": "stderr",
          "text": [
            "WARNING:absl:You are saving your model as an HDF5 file via `model.save()` or `keras.saving.save_model(model)`. This file format is considered legacy. We recommend using instead the native Keras format, e.g. `model.save('my_model.keras')` or `keras.saving.save_model(model, 'my_model.keras')`. \n"
          ]
        },
        {
          "output_type": "stream",
          "name": "stdout",
          "text": [
            "✅ Saved model at batch 40\n"
          ]
        },
        {
          "output_type": "stream",
          "name": "stderr",
          "text": [
            "WARNING:absl:You are saving your model as an HDF5 file via `model.save()` or `keras.saving.save_model(model)`. This file format is considered legacy. We recommend using instead the native Keras format, e.g. `model.save('my_model.keras')` or `keras.saving.save_model(model, 'my_model.keras')`. \n"
          ]
        },
        {
          "output_type": "stream",
          "name": "stdout",
          "text": [
            "✅ Saved model at batch 50\n"
          ]
        },
        {
          "output_type": "stream",
          "name": "stderr",
          "text": [
            "WARNING:absl:You are saving your model as an HDF5 file via `model.save()` or `keras.saving.save_model(model)`. This file format is considered legacy. We recommend using instead the native Keras format, e.g. `model.save('my_model.keras')` or `keras.saving.save_model(model, 'my_model.keras')`. \n"
          ]
        },
        {
          "output_type": "stream",
          "name": "stdout",
          "text": [
            "✅ Saved model at batch 60\n"
          ]
        },
        {
          "output_type": "stream",
          "name": "stderr",
          "text": [
            "WARNING:absl:You are saving your model as an HDF5 file via `model.save()` or `keras.saving.save_model(model)`. This file format is considered legacy. We recommend using instead the native Keras format, e.g. `model.save('my_model.keras')` or `keras.saving.save_model(model, 'my_model.keras')`. \n"
          ]
        },
        {
          "output_type": "stream",
          "name": "stdout",
          "text": [
            "✅ Saved model at batch 70\n"
          ]
        },
        {
          "output_type": "stream",
          "name": "stderr",
          "text": [
            "WARNING:absl:You are saving your model as an HDF5 file via `model.save()` or `keras.saving.save_model(model)`. This file format is considered legacy. We recommend using instead the native Keras format, e.g. `model.save('my_model.keras')` or `keras.saving.save_model(model, 'my_model.keras')`. \n"
          ]
        },
        {
          "output_type": "stream",
          "name": "stdout",
          "text": [
            "✅ Saved model at batch 80\n"
          ]
        },
        {
          "output_type": "stream",
          "name": "stderr",
          "text": [
            "WARNING:absl:You are saving your model as an HDF5 file via `model.save()` or `keras.saving.save_model(model)`. This file format is considered legacy. We recommend using instead the native Keras format, e.g. `model.save('my_model.keras')` or `keras.saving.save_model(model, 'my_model.keras')`. \n"
          ]
        },
        {
          "output_type": "stream",
          "name": "stdout",
          "text": [
            "✅ Saved model at batch 90\n"
          ]
        },
        {
          "output_type": "stream",
          "name": "stderr",
          "text": [
            "WARNING:absl:You are saving your model as an HDF5 file via `model.save()` or `keras.saving.save_model(model)`. This file format is considered legacy. We recommend using instead the native Keras format, e.g. `model.save('my_model.keras')` or `keras.saving.save_model(model, 'my_model.keras')`. \n"
          ]
        },
        {
          "output_type": "stream",
          "name": "stdout",
          "text": [
            "✅ Saved model at batch 100\n",
            "\u001b[1m50/50\u001b[0m \u001b[32m━━━━━━━━━━━━━━━━━━━━\u001b[0m\u001b[37m\u001b[0m \u001b[1m0s\u001b[0m 1s/step - accuracy: 0.5574 - loss: 1.1528\n",
            "Epoch 1: saving model to /content/drive/MyDrive/Project/DS_task/model_epoch_01.h5\n"
          ]
        },
        {
          "output_type": "stream",
          "name": "stderr",
          "text": [
            "WARNING:absl:You are saving your model as an HDF5 file via `model.save()` or `keras.saving.save_model(model)`. This file format is considered legacy. We recommend using instead the native Keras format, e.g. `model.save('my_model.keras')` or `keras.saving.save_model(model, 'my_model.keras')`. \n"
          ]
        },
        {
          "output_type": "stream",
          "name": "stdout",
          "text": [
            "\b\b\b\b\b\b\b\b\b\b\b\b\b\b\b\b\b\b\b\b\b\b\b\b\b\b\b\b\b\b\b\b\b\b\b\b\b\b\b\b\b\b\b\b\b\b\b\b\b\b\b\b\b\b\b\b\b\b\b\b\b\b\b\b\b\b\b\b\b\b\b\r\u001b[1m50/50\u001b[0m \u001b[32m━━━━━━━━━━━━━━━━━━━━\u001b[0m\u001b[37m\u001b[0m \u001b[1m1355s\u001b[0m 28s/step - accuracy: 0.5574 - loss: 1.1524 - val_accuracy: 0.6526 - val_loss: 1.0064\n"
          ]
        },
        {
          "output_type": "execute_result",
          "data": {
            "text/plain": [
              "<keras.src.callbacks.history.History at 0x7e90fe6c1990>"
            ]
          },
          "metadata": {},
          "execution_count": 10
        }
      ]
    },
    {
      "cell_type": "markdown",
      "source": [
        "## Step 4: Integrate OpenCV Features with Deep Learning"
      ],
      "metadata": {
        "id": "LUJrg_COXqh5"
      }
    },
    {
      "cell_type": "code",
      "source": [
        "import os\n",
        "import cv2\n",
        "import numpy as np\n",
        "from tqdm import tqdm\n",
        "from sklearn.preprocessing import LabelEncoder\n",
        "from tensorflow.keras.utils import to_categorical\n",
        "\n",
        "# Folder path\n",
        "train_path = \"/content/drive/MyDrive/Project/DS_task/split_dataset/train\"\n",
        "img_size = (224, 224)\n",
        "max_orb_size = 512  # ORB feature length\n",
        "\n",
        "# Save path\n",
        "save_dir = \"/content\"\n",
        "img_save = os.path.join(save_dir, \"X_img.npy\")\n",
        "orb_save = os.path.join(save_dir, \"X_orb.npy\")\n",
        "label_save = os.path.join(save_dir, \"y.npy\")\n",
        "\n",
        "# ORB extractor\n",
        "def extract_orb_descriptors(image_path):\n",
        "    gray = cv2.imread(image_path, cv2.IMREAD_GRAYSCALE)\n",
        "    orb = cv2.ORB_create()\n",
        "    kp, des = orb.detectAndCompute(gray, None)\n",
        "    if des is not None:\n",
        "        des_flat = des.flatten()\n",
        "        return des_flat[:max_orb_size] if des_flat.shape[0] >= max_orb_size else np.pad(des_flat, (0, max_orb_size - des_flat.shape[0]))\n",
        "    else:\n",
        "        return np.zeros(max_orb_size)\n",
        "\n",
        "# Load saved progress if exists\n",
        "X_img = list(np.load(img_save, allow_pickle=True)) if os.path.exists(img_save) else []\n",
        "X_orb = list(np.load(orb_save, allow_pickle=True)) if os.path.exists(orb_save) else []\n",
        "y = list(np.load(label_save, allow_pickle=True)) if os.path.exists(label_save) else []\n",
        "\n",
        "processed_count = len(X_img)\n",
        "print(f\"🔁 Resuming from image {processed_count}\")\n",
        "\n",
        "# Start data loading\n",
        "class_folders = sorted(os.listdir(train_path))\n",
        "total_processed = 0\n",
        "\n",
        "for label in tqdm(class_folders):\n",
        "    label_folder = os.path.join(train_path, label)\n",
        "    image_files = os.listdir(label_folder)\n",
        "\n",
        "    for file in image_files:\n",
        "        if total_processed < processed_count:\n",
        "            total_processed += 1\n",
        "            continue  # Skip already processed\n",
        "\n",
        "        file_path = os.path.join(label_folder, file)\n",
        "\n",
        "        # CNN image input\n",
        "        img = cv2.imread(file_path)\n",
        "        if img is None:\n",
        "            continue\n",
        "        img = cv2.resize(img, img_size)\n",
        "        X_img.append(img.astype('float32') / 255.0)\n",
        "\n",
        "        # ORB input\n",
        "        orb_vec = extract_orb_descriptors(file_path)\n",
        "        X_orb.append(orb_vec)\n",
        "\n",
        "        # Label\n",
        "        y.append(label)\n",
        "\n",
        "        total_processed += 1\n",
        "\n",
        "        # Save every 100 images\n",
        "        if total_processed % 100 == 0:\n",
        "            print(f\"💾 Saving checkpoint at {total_processed} images...\")\n",
        "            np.save(img_save, np.array(X_img))\n",
        "            np.save(orb_save, np.array(X_orb))\n",
        "            np.save(label_save, np.array(y))\n",
        "\n",
        "# Final save\n",
        "np.save(img_save, np.array(X_img))\n",
        "np.save(orb_save, np.array(X_orb))\n",
        "np.save(label_save, np.array(y))\n",
        "print(\"✅ Final save completed.\")\n",
        "\n",
        "# Convert and encode\n",
        "X_img = np.array(X_img)\n",
        "X_orb = np.array(X_orb)\n",
        "y = np.array(y)\n",
        "\n",
        "encoder = LabelEncoder()\n",
        "y_encoded = encoder.fit_transform(y)\n",
        "y_categorical = to_categorical(y_encoded)\n"
      ],
      "metadata": {
        "colab": {
          "base_uri": "https://localhost:8080/"
        },
        "id": "83WpbPWLwROu",
        "outputId": "c238018b-2d9c-471f-fcac-202453902ab9"
      },
      "execution_count": null,
      "outputs": [
        {
          "output_type": "stream",
          "name": "stdout",
          "text": [
            "🔁 Resuming from image 0\n"
          ]
        },
        {
          "output_type": "stream",
          "name": "stderr",
          "text": [
            "\r  0%|          | 0/7 [00:00<?, ?it/s]"
          ]
        },
        {
          "output_type": "stream",
          "name": "stdout",
          "text": [
            "💾 Saving checkpoint at 100 images...\n",
            "💾 Saving checkpoint at 200 images...\n",
            "💾 Saving checkpoint at 300 images...\n",
            "💾 Saving checkpoint at 400 images...\n",
            "💾 Saving checkpoint at 500 images...\n",
            "💾 Saving checkpoint at 600 images...\n",
            "💾 Saving checkpoint at 700 images...\n",
            "💾 Saving checkpoint at 800 images...\n",
            "💾 Saving checkpoint at 900 images...\n",
            "💾 Saving checkpoint at 1000 images...\n",
            "💾 Saving checkpoint at 1100 images...\n",
            "💾 Saving checkpoint at 1200 images...\n",
            "💾 Saving checkpoint at 1300 images...\n",
            "💾 Saving checkpoint at 1400 images...\n",
            "💾 Saving checkpoint at 1500 images...\n",
            "💾 Saving checkpoint at 1600 images...\n",
            "💾 Saving checkpoint at 1700 images...\n",
            "💾 Saving checkpoint at 1800 images...\n",
            "💾 Saving checkpoint at 1900 images...\n",
            "💾 Saving checkpoint at 2000 images...\n",
            "💾 Saving checkpoint at 2100 images...\n",
            "💾 Saving checkpoint at 2200 images...\n",
            "💾 Saving checkpoint at 2300 images...\n",
            "💾 Saving checkpoint at 2400 images...\n",
            "💾 Saving checkpoint at 2500 images...\n",
            "💾 Saving checkpoint at 2600 images...\n"
          ]
        },
        {
          "output_type": "stream",
          "name": "stderr",
          "text": [
            "\r 14%|█▍        | 1/7 [04:19<25:58, 259.70s/it]"
          ]
        },
        {
          "output_type": "stream",
          "name": "stdout",
          "text": [
            "💾 Saving checkpoint at 2700 images...\n",
            "💾 Saving checkpoint at 2800 images...\n",
            "💾 Saving checkpoint at 2900 images...\n",
            "💾 Saving checkpoint at 3000 images...\n",
            "💾 Saving checkpoint at 3100 images...\n",
            "💾 Saving checkpoint at 3200 images...\n",
            "💾 Saving checkpoint at 3300 images...\n",
            "💾 Saving checkpoint at 3400 images...\n",
            "💾 Saving checkpoint at 3500 images...\n",
            "💾 Saving checkpoint at 3600 images...\n",
            "💾 Saving checkpoint at 3700 images...\n",
            "💾 Saving checkpoint at 3800 images...\n",
            "💾 Saving checkpoint at 3900 images...\n",
            "💾 Saving checkpoint at 4000 images...\n",
            "💾 Saving checkpoint at 4100 images...\n",
            "💾 Saving checkpoint at 4200 images...\n",
            "💾 Saving checkpoint at 4300 images...\n",
            "💾 Saving checkpoint at 4400 images...\n",
            "💾 Saving checkpoint at 4500 images...\n",
            "💾 Saving checkpoint at 4600 images...\n",
            "💾 Saving checkpoint at 4700 images...\n",
            "💾 Saving checkpoint at 4800 images...\n",
            "💾 Saving checkpoint at 4900 images...\n",
            "💾 Saving checkpoint at 5000 images...\n",
            "💾 Saving checkpoint at 5100 images...\n",
            "💾 Saving checkpoint at 5200 images...\n"
          ]
        },
        {
          "output_type": "stream",
          "name": "stderr",
          "text": [
            "\r 29%|██▊       | 2/7 [22:21<1:01:55, 743.13s/it]"
          ]
        },
        {
          "output_type": "stream",
          "name": "stdout",
          "text": [
            "💾 Saving checkpoint at 5300 images...\n",
            "💾 Saving checkpoint at 5400 images...\n",
            "💾 Saving checkpoint at 5500 images...\n",
            "💾 Saving checkpoint at 5600 images...\n",
            "💾 Saving checkpoint at 5700 images...\n",
            "💾 Saving checkpoint at 5800 images...\n",
            "💾 Saving checkpoint at 5900 images...\n",
            "💾 Saving checkpoint at 6000 images...\n",
            "💾 Saving checkpoint at 6100 images...\n",
            "💾 Saving checkpoint at 6200 images...\n",
            "💾 Saving checkpoint at 6300 images...\n",
            "💾 Saving checkpoint at 6400 images...\n",
            "💾 Saving checkpoint at 6500 images...\n",
            "💾 Saving checkpoint at 6600 images...\n",
            "💾 Saving checkpoint at 6700 images...\n",
            "💾 Saving checkpoint at 6800 images...\n",
            "💾 Saving checkpoint at 6900 images...\n",
            "💾 Saving checkpoint at 7000 images...\n",
            "💾 Saving checkpoint at 7100 images...\n",
            "💾 Saving checkpoint at 7200 images...\n",
            "💾 Saving checkpoint at 7300 images...\n",
            "💾 Saving checkpoint at 7400 images...\n",
            "💾 Saving checkpoint at 7500 images...\n",
            "💾 Saving checkpoint at 7600 images...\n",
            "💾 Saving checkpoint at 7700 images...\n",
            "💾 Saving checkpoint at 7800 images...\n"
          ]
        },
        {
          "output_type": "stream",
          "name": "stderr",
          "text": [
            "\r 43%|████▎     | 3/7 [1:50:14<3:07:25, 2811.48s/it]"
          ]
        },
        {
          "output_type": "stream",
          "name": "stdout",
          "text": [
            "💾 Saving checkpoint at 7900 images...\n",
            "💾 Saving checkpoint at 8000 images...\n",
            "💾 Saving checkpoint at 8100 images...\n",
            "💾 Saving checkpoint at 8200 images...\n",
            "💾 Saving checkpoint at 8300 images...\n",
            "💾 Saving checkpoint at 8400 images...\n",
            "💾 Saving checkpoint at 8500 images...\n",
            "💾 Saving checkpoint at 8600 images...\n"
          ]
        }
      ]
    },
    {
      "cell_type": "code",
      "source": [
        "from tensorflow.keras.models import load_model\n",
        "\n",
        "model = load_model('/content/drive/MyDrive/Project/DS_task/manual_batch_model.h5')\n"
      ],
      "metadata": {
        "id": "t-pAjzDBwRRl"
      },
      "execution_count": null,
      "outputs": []
    },
    {
      "cell_type": "code",
      "source": [
        "model.fit(\n",
        "    {\"image_input\": X_img, \"orb_input\": X_orb},\n",
        "    y_encoded,\n",
        "    epochs=5,  # or however many more epochs you want\n",
        "    batch_size=32,\n",
        "    validation_split=0.2,\n",
        "    callbacks=[\n",
        "        ModelCheckpoint(\n",
        "            filepath='/content/drive/MyDrive/Project/DS_task/manual_batch_model.h5',\n",
        "            save_best_only=True,\n",
        "            monitor='val_loss',\n",
        "            verbose=1\n",
        "        )\n",
        "    ]\n",
        ")\n"
      ],
      "metadata": {
        "id": "7u22CfkbL47N"
      },
      "execution_count": null,
      "outputs": []
    },
    {
      "cell_type": "markdown",
      "source": [
        "## Step 5: Evaluation\n",
        "Evaluate the model's performance on the test set using accuracy, precision, recall, and F1-score.\n",
        "Visualize model performance using confusion matrices and ROC curves."
      ],
      "metadata": {
        "id": "fHGuWGMUY8Ca"
      }
    },
    {
      "cell_type": "code",
      "source": [
        "import os\n",
        "import cv2\n",
        "import numpy as np\n",
        "from tqdm import tqdm\n",
        "import matplotlib.pyplot as plt\n",
        "import seaborn as sns\n",
        "from tensorflow.keras.models import load_model\n",
        "from sklearn.preprocessing import LabelEncoder, label_binarize\n",
        "from sklearn.metrics import accuracy_score, precision_score, recall_score, f1_score, classification_report, confusion_matrix, roc_curve, auc\n",
        "from tensorflow.keras.utils import to_categorical\n",
        "\n",
        "# Paths\n",
        "test_path = \"/content/drive/MyDrive/Project/DS_task/split_dataset/test\"\n",
        "model_path = \"/content/drive/MyDrive/Project/DS_task/manual_batch_model.h5\"\n",
        "\n",
        "# Image/ORB setup\n",
        "img_size = (224, 224)\n",
        "max_orb_size = 512\n",
        "\n",
        "def extract_orb_descriptors(image_path):\n",
        "    gray = cv2.imread(image_path, cv2.IMREAD_GRAYSCALE)\n",
        "    orb = cv2.ORB_create()\n",
        "    kp, des = orb.detectAndCompute(gray, None)\n",
        "    if des is not None:\n",
        "        des_flat = des.flatten()\n",
        "        return des_flat[:max_orb_size] if des_flat.shape[0] >= max_orb_size else np.pad(des_flat, (0, max_orb_size - des_flat.shape[0]))\n",
        "    else:\n",
        "        return np.zeros(max_orb_size)\n",
        "\n",
        "# Load test images and features\n",
        "X_test_img, X_test_orb, y_test = [], [], []\n",
        "\n",
        "class_folders = sorted(os.listdir(test_path))\n",
        "for label in tqdm(class_folders):\n",
        "    label_folder = os.path.join(test_path, label)\n",
        "    for file in os.listdir(label_folder):\n",
        "        file_path = os.path.join(label_folder, file)\n",
        "\n",
        "        img = cv2.imread(file_path)\n",
        "        if img is None:\n",
        "            continue\n",
        "        img = cv2.resize(img, img_size)\n",
        "        X_test_img.append(img.astype('float32') / 255.0)\n",
        "        X_test_orb.append(extract_orb_descriptors(file_path))\n",
        "        y_test.append(label)\n",
        "\n",
        "# Convert\n",
        "X_test_img = np.array(X_test_img)\n",
        "X_test_orb = np.array(X_test_orb)\n",
        "y_test = np.array(y_test)\n",
        "\n",
        "# Save for reuse\n",
        "np.save(\"X_test_img.npy\", X_test_img)\n",
        "np.save(\"X_test_orb.npy\", X_test_orb)\n",
        "np.save(\"y_test.npy\", y_test)\n",
        "\n",
        "# Label encoding\n",
        "encoder = LabelEncoder()\n",
        "y_true = encoder.fit_transform(y_test)\n",
        "class_names = encoder.classes_\n",
        "\n",
        "# Load model\n",
        "model = load_model(model_path)\n",
        "\n",
        "# Predict\n",
        "if len(model.inputs) == 1:\n",
        "    y_pred_probs = model.predict(X_test_img)\n",
        "else:\n",
        "    y_pred_probs = model.predict([X_test_img, X_test_orb])\n",
        "\n",
        "y_pred = np.argmax(y_pred_probs, axis=1)\n",
        "\n",
        "# Metrics\n",
        "accuracy = accuracy_score(y_true, y_pred)\n",
        "precision = precision_score(y_true, y_pred, average='weighted', zero_division=0)\n",
        "recall = recall_score(y_true, y_pred, average='weighted', zero_division=0)\n",
        "f1 = f1_score(y_true, y_pred, average='weighted', zero_division=0)\n",
        "\n",
        "print(\"\\n📊 Classification Report:\")\n",
        "print(classification_report(y_true, y_pred, target_names=class_names))\n",
        "print(f\"✅ Accuracy:  {accuracy:.4f}\")\n",
        "print(f\"✅ Precision: {precision:.4f}\")\n",
        "print(f\"✅ Recall:    {recall:.4f}\")\n",
        "print(f\"✅ F1 Score:  {f1:.4f}\")\n",
        "\n",
        "# Confusion Matrix\n",
        "cm = confusion_matrix(y_true, y_pred)\n",
        "plt.figure(figsize=(8, 6))\n",
        "sns.heatmap(cm, annot=True, fmt=\"d\", xticklabels=class_names, yticklabels=class_names, cmap=\"Blues\")\n",
        "plt.xlabel(\"Predicted\")\n",
        "plt.ylabel(\"Actual\")\n",
        "plt.title(\"Confusion Matrix\")\n",
        "plt.tight_layout()\n",
        "plt.show()\n",
        "\n",
        "# ROC Curve\n",
        "y_true_bin = label_binarize(y_true, classes=range(len(class_names)))\n",
        "fpr, tpr, roc_auc = {}, {}, {}\n",
        "\n",
        "for i in range(len(class_names)):\n",
        "    fpr[i], tpr[i], _ = roc_curve(y_true_bin[:, i], y_pred_probs[:, i])\n",
        "    roc_auc[i] = auc(fpr[i], tpr[i])\n",
        "\n",
        "plt.figure(figsize=(10, 7))\n",
        "for i in range(len(class_names)):\n",
        "    plt.plot(fpr[i], tpr[i], label=f\"{class_names[i]} (AUC = {roc_auc[i]:.2f})\")\n",
        "plt.plot([0, 1], [0, 1], 'k--')\n",
        "plt.title(\"ROC Curve (Multi-Class)\")\n",
        "plt.xlabel(\"False Positive Rate\")\n",
        "plt.ylabel(\"True Positive Rate\")\n",
        "plt.legend(loc=\"lower right\")\n",
        "plt.grid(True)\n",
        "plt.tight_layout()\n",
        "plt.show()\n"
      ],
      "metadata": {
        "id": "4DZFncwNwRaS",
        "colab": {
          "base_uri": "https://localhost:8080/",
          "height": 1000
        },
        "outputId": "5c3cafb4-6f5c-4198-b38f-de6c52c8ea62"
      },
      "execution_count": 2,
      "outputs": [
        {
          "output_type": "stream",
          "name": "stderr",
          "text": [
            "100%|██████████| 7/7 [01:37<00:00, 13.98s/it]\n",
            "WARNING:absl:Compiled the loaded model, but the compiled metrics have yet to be built. `model.compile_metrics` will be empty until you train or evaluate the model.\n"
          ]
        },
        {
          "output_type": "stream",
          "name": "stdout",
          "text": [
            "\u001b[1m123/123\u001b[0m \u001b[32m━━━━━━━━━━━━━━━━━━━━\u001b[0m\u001b[37m\u001b[0m \u001b[1m15s\u001b[0m 70ms/step\n",
            "\n",
            "📊 Classification Report:\n",
            "              precision    recall  f1-score   support\n",
            "\n",
            "      bright       0.28      0.04      0.07       560\n",
            "   equalized       0.00      0.00      0.00       560\n",
            "     flipped       0.00      0.00      0.00       560\n",
            "       noisy       0.74      0.31      0.43       560\n",
            "    original       0.00      0.00      0.00       560\n",
            " perspective       0.14      0.03      0.04       560\n",
            "     rotated       0.16      0.97      0.27       560\n",
            "\n",
            "    accuracy                           0.19      3920\n",
            "   macro avg       0.19      0.19      0.12      3920\n",
            "weighted avg       0.19      0.19      0.12      3920\n",
            "\n",
            "✅ Accuracy:  0.1921\n",
            "✅ Precision: 0.1878\n",
            "✅ Recall:    0.1921\n",
            "✅ F1 Score:  0.1168\n"
          ]
        },
        {
          "output_type": "stream",
          "name": "stderr",
          "text": [
            "/usr/local/lib/python3.11/dist-packages/sklearn/metrics/_classification.py:1565: UndefinedMetricWarning: Precision is ill-defined and being set to 0.0 in labels with no predicted samples. Use `zero_division` parameter to control this behavior.\n",
            "  _warn_prf(average, modifier, f\"{metric.capitalize()} is\", len(result))\n",
            "/usr/local/lib/python3.11/dist-packages/sklearn/metrics/_classification.py:1565: UndefinedMetricWarning: Precision is ill-defined and being set to 0.0 in labels with no predicted samples. Use `zero_division` parameter to control this behavior.\n",
            "  _warn_prf(average, modifier, f\"{metric.capitalize()} is\", len(result))\n",
            "/usr/local/lib/python3.11/dist-packages/sklearn/metrics/_classification.py:1565: UndefinedMetricWarning: Precision is ill-defined and being set to 0.0 in labels with no predicted samples. Use `zero_division` parameter to control this behavior.\n",
            "  _warn_prf(average, modifier, f\"{metric.capitalize()} is\", len(result))\n"
          ]
        },
        {
          "output_type": "display_data",
          "data": {
            "text/plain": [
              "<Figure size 800x600 with 2 Axes>"
            ],
            "image/png": "[encoded data removed]"
          },
          "metadata": {}
        },
        {
          "output_type": "display_data",
          "data": {
            "text/plain": [
              "<Figure size 1000x700 with 1 Axes>"
            ],
            "image/png": "[encoded data removed]"
          },
          "metadata": {}
        }
      ]
    },
    {
      "cell_type": "code",
      "source": [],
      "metadata": {
        "id": "049hWYJIcT_U"
      },
      "execution_count": null,
      "outputs": []
    }
  ]
}